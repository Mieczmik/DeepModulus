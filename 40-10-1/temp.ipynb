{
 "cells": [
  {
   "cell_type": "code",
   "execution_count": null,
   "id": "57a6b77d",
   "metadata": {},
   "outputs": [
    {
     "name": "stdout",
     "output_type": "stream",
     "text": [
      "Warning: 1 points required, but 2 points sampled.\n",
      "Compiling model...\n",
      "'compile' took 0.000133 s\n",
      "\n",
      "Restoring model from Siyuan_AUG_12-50000.pt ...\n",
      "\n",
      "mu = 4.0\n",
      "lam_load = 7.0\n"
     ]
    }
   ],
   "source": [
    "import os\n",
    "os.environ[\"DDE_BACKEND\"] = \"pytorch\"  # jak w treningu\n",
    "\n",
    "import deepxde as dde\n",
    "import torch\n",
    "import numpy as np\n",
    "import matplotlib.pyplot as plt\n",
    "from pathlib import Path\n",
    "\n",
    "# ------- 1) IDENTYCZNY transform jak w treningu -------\n",
    "stretch = 2.5\n",
    "def transform(x, y):\n",
    "    X1 = x[:, 0:1]; X2 = x[:, 1:2]; t  = x[:, 2:3]\n",
    "    ratio = (stretch - 1.0) * t + 1\n",
    "    new_x1 = (X1 + 1.0) * (X1 - 1.0) * y[:, 0:1] + (X1 + 1.0) * ratio - 1.0\n",
    "    new_x2 = (X1 + 1.0) * (X1 - 1.0) * y[:, 1:2] + X2\n",
    "    return torch.cat([new_x1, new_x2, y[:, 2:3]], dim=1)\n",
    "\n",
    "# ------- 2) Minimalne \"dummy\" dane tylko do zbudowania Model -------\n",
    "outer = dde.geometry.geometry_2d.Rectangle([-1.0, -0.5], [1.0, 0.5])\n",
    "time  = dde.geometry.TimeDomain(0.0, 1.0)\n",
    "dom   = dde.geometry.GeometryXTime(outer, time)\n",
    "\n",
    "def pde_dummy(x, y):\n",
    "    z = y[:, 0:1] * 0\n",
    "    return [z, z, z]  # 3 składowe jak w treningu\n",
    "\n",
    "data = dde.data.TimePDE(dom, pde_dummy, [], num_domain=1, num_boundary=0, num_initial=0, num_test=1)\n",
    "\n",
    "# ------- 3) TAKA SAMA architektura sieci jak w treningu -------\n",
    "net = dde.maps.FNN([3] + [30]*3 + [3], \"tanh\", \"Glorot uniform\")\n",
    "net.apply_output_transform(transform)\n",
    "\n",
    "# Zmienne zewnętrzne (żeby wczytać ich stan); nazwy jak w treningu\n",
    "mu = dde.Variable(4.0)\n",
    "lam_load = dde.Variable(7.0)\n",
    "\n",
    "# Loss weights są do predykcji nieistotne, ale muszą istnieć\n",
    "weights = [1] * 7\n",
    "\n",
    "model = dde.Model(data, net)\n",
    "model.compile(\"adam\", lr=1e-3,\n",
    "              external_trainable_variables=[mu, lam_load],\n",
    "              loss_weights=weights)\n",
    "\n",
    "# ------- 4) Wczytaj checkpoint -------\n",
    "CKPT_DIR = \"Siyuan_AUG_12-50000.pt\"   # <-- podmień jeśli zapisałeś pod inną nazwą/ścieżką\n",
    "model.restore(CKPT_DIR, verbose=1)"
   ]
  },
  {
   "cell_type": "code",
   "execution_count": 19,
   "id": "17dce919",
   "metadata": {},
   "outputs": [
    {
     "data": {
      "text/plain": [
       "array([], shape=(1, 0), dtype=float64)"
      ]
     },
     "execution_count": 19,
     "metadata": {},
     "output_type": "execute_result"
    }
   ],
   "source": [
    "arr"
   ]
  },
  {
   "cell_type": "code",
   "execution_count": 17,
   "id": "8d462ae6",
   "metadata": {},
   "outputs": [
    {
     "name": "stderr",
     "output_type": "stream",
     "text": [
      "/tmp/ipykernel_139223/2269614106.py:2: UserWarning: loadtxt: input contained no data: \"variable_history\"\n",
      "  arr = np.loadtxt(vh)              # kolumny: step  mu  lam\n"
     ]
    },
    {
     "ename": "IndexError",
     "evalue": "index 0 is out of bounds for axis 1 with size 0",
     "output_type": "error",
     "traceback": [
      "\u001b[31m---------------------------------------------------------------------------\u001b[39m",
      "\u001b[31mIndexError\u001b[39m                                Traceback (most recent call last)",
      "\u001b[36mCell\u001b[39m\u001b[36m \u001b[39m\u001b[32mIn[17]\u001b[39m\u001b[32m, line 5\u001b[39m\n\u001b[32m      3\u001b[39m \u001b[38;5;28;01mif\u001b[39;00m arr.ndim == \u001b[32m1\u001b[39m:\n\u001b[32m      4\u001b[39m     arr = arr[\u001b[38;5;28;01mNone\u001b[39;00m, :]\n\u001b[32m----> \u001b[39m\u001b[32m5\u001b[39m step, mu_val, lam_val = \u001b[43marr\u001b[49m\u001b[43m[\u001b[49m\u001b[43m-\u001b[49m\u001b[32;43m1\u001b[39;49m\u001b[43m,\u001b[49m\u001b[43m \u001b[49m\u001b[32;43m0\u001b[39;49m\u001b[43m]\u001b[49m, arr[-\u001b[32m1\u001b[39m, \u001b[32m1\u001b[39m], arr[-\u001b[32m1\u001b[39m, \u001b[32m2\u001b[39m]\n\u001b[32m      6\u001b[39m \u001b[38;5;28mprint\u001b[39m(\u001b[33mf\u001b[39m\u001b[33m\"\u001b[39m\u001b[33mZ historii: step=\u001b[39m\u001b[38;5;132;01m{\u001b[39;00m\u001b[38;5;28mint\u001b[39m(step)\u001b[38;5;132;01m}\u001b[39;00m\u001b[33m  mu=\u001b[39m\u001b[38;5;132;01m{\u001b[39;00mmu_val\u001b[38;5;132;01m:\u001b[39;00m\u001b[33m.6g\u001b[39m\u001b[38;5;132;01m}\u001b[39;00m\u001b[33m  lam_load=\u001b[39m\u001b[38;5;132;01m{\u001b[39;00mlam_val\u001b[38;5;132;01m:\u001b[39;00m\u001b[33m.6g\u001b[39m\u001b[38;5;132;01m}\u001b[39;00m\u001b[33m\"\u001b[39m)\n\u001b[32m      8\u001b[39m \u001b[38;5;66;03m# --- 3) wstrzyknij wartości do zmiennych DeepXDE ---\u001b[39;00m\n",
      "\u001b[31mIndexError\u001b[39m: index 0 is out of bounds for axis 1 with size 0"
     ]
    }
   ],
   "source": [
    "vh = \"variable_history\"\n",
    "arr = np.loadtxt(vh)              # kolumny: step  mu  lam\n",
    "if arr.ndim == 1:\n",
    "    arr = arr[None, :]\n",
    "step, mu_val, lam_val = arr[-1, 0], arr[-1, 1], arr[-1, 2]\n",
    "print(f\"Z historii: step={int(step)}  mu={mu_val:.6g}  lam_load={lam_val:.6g}\")\n",
    "\n",
    "# --- 3) wstrzyknij wartości do zmiennych DeepXDE ---\n",
    "with torch.no_grad():\n",
    "    mu.value.fill_(float(mu_val))\n",
    "    lam_load.value.fill_(float(lam_val))\n",
    "\n",
    "print(\"Po wstrzyknięciu:\",\n",
    "      \"mu =\", float(mu.value.detach().cpu()),\n",
    "      \"lam_load =\", float(lam_load.value.detach().cpu()))"
   ]
  },
  {
   "cell_type": "code",
   "execution_count": 3,
   "id": "f897f848",
   "metadata": {},
   "outputs": [
    {
     "name": "stdout",
     "output_type": "stream",
     "text": [
      "Wybrane czasy (najgęstsze): [np.float32(0.25), np.float32(0.5), np.float32(0.75), np.float32(0.0), np.float32(0.05)]  | liczności: [np.int64(681), np.int64(681), np.int64(681), np.int64(680), np.int64(680)]\n",
      "Gotowe.\n"
     ]
    }
   ],
   "source": [
    "import numpy as np\n",
    "import matplotlib.pyplot as plt\n",
    "from pathlib import Path\n",
    "from collections import Counter\n",
    "\n",
    "X = np.load(\"train_x.npy\")  # (N,3): x,y,t\n",
    "assert X.shape[1] == 3\n",
    "\n",
    "# policz ile punktów ma każdy czas\n",
    "t_vals, counts = np.unique(X[:,2], return_counts=True)\n",
    "t2n = dict(zip(t_vals, counts))\n",
    "\n",
    "# wybierz 5 czasów z największą liczbą punktów (lub ile chcesz)\n",
    "top_k = 5\n",
    "picked_ts = [t for t, _ in sorted(t2n.items(), key=lambda kv: kv[1], reverse=True)[:top_k]]\n",
    "print(\"Wybrane czasy (najgęstsze):\", picked_ts, \" | liczności:\", [t2n[t] for t in picked_ts])\n",
    "\n",
    "outdir = Path(\"train_contours_from_trainX\")\n",
    "outdir.mkdir(exist_ok=True)\n",
    "\n",
    "def safe_tricontour(x, y, z, title, filename, levels=20, min_pts=3):\n",
    "    plt.figure(figsize=(6.4, 5.0))\n",
    "    if len(x) >= min_pts:\n",
    "        cn = plt.tricontourf(x, y, z, levels=levels)\n",
    "        plt.colorbar(cn, label=title)\n",
    "        plt.tricontour(x, y, z, levels=levels, linewidths=0.6)\n",
    "    else:\n",
    "        # fallback: tylko scatter gdy za mało punktów na kontur\n",
    "        plt.scatter(x, y, s=8)\n",
    "        plt.title(f\"{title} (za mało punktów na kontur: n={len(x)})\")\n",
    "    # obrys domeny (opcjonalnie)\n",
    "    plt.plot([-1, 1, 1, -1, -1], [-0.5, -0.5, 0.5, 0.5, -0.5], linewidth=1.0)\n",
    "    plt.gca().set_aspect(\"equal\", adjustable=\"box\")\n",
    "    plt.xlabel(\"x\"); plt.ylabel(\"y\"); plt.title(title)\n",
    "    plt.tight_layout(); plt.savefig(filename, dpi=150); plt.close()\n",
    "\n",
    "for t0 in picked_ts:\n",
    "    mask = np.isclose(X[:,2], t0, atol=1e-12)\n",
    "    X_t  = X[mask]\n",
    "    if X_t.shape[0] == 0:\n",
    "        continue\n",
    "\n",
    "    # predykcja modelu na punktach treningowych dla tego t\n",
    "    Y_t  = model.predict(X_t)  # (M,3): [ux,uy,F33]\n",
    "    ux, uy = Y_t[:,0], Y_t[:,1]\n",
    "    umag   = np.sqrt(ux**2 + uy**2)\n",
    "    xg, yg = X_t[:,0], X_t[:,1]\n",
    "\n",
    "    safe_tricontour(xg, yg, ux,   f\"u_x @ t={t0:.6f}\", outdir / f\"ux_t{t0:.6f}.png\")\n",
    "    safe_tricontour(xg, yg, uy,   f\"u_y @ t={t0:.6f}\", outdir / f\"uy_t{t0:.6f}.png\")\n",
    "    safe_tricontour(xg, yg, umag, f\"|u| @ t={t0:.6f}\", outdir / f\"umag_t{t0:.6f}.png\")\n",
    "\n",
    "print(\"Gotowe.\")\n"
   ]
  },
  {
   "cell_type": "code",
   "execution_count": null,
   "id": "eeaefab1",
   "metadata": {},
   "outputs": [
    {
     "name": "stdout",
     "output_type": "stream",
     "text": [
      "mu = 4.0\n",
      "lam_load = 7.0\n"
     ]
    }
   ],
   "source": []
  },
  {
   "cell_type": "code",
   "execution_count": null,
   "id": "bcd7223c",
   "metadata": {},
   "outputs": [],
   "source": []
  }
 ],
 "metadata": {
  "kernelspec": {
   "display_name": ".venv",
   "language": "python",
   "name": "python3"
  },
  "language_info": {
   "codemirror_mode": {
    "name": "ipython",
    "version": 3
   },
   "file_extension": ".py",
   "mimetype": "text/x-python",
   "name": "python",
   "nbconvert_exporter": "python",
   "pygments_lexer": "ipython3",
   "version": "3.12.11"
  }
 },
 "nbformat": 4,
 "nbformat_minor": 5
}
