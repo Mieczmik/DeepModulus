{
 "cells": [
  {
   "cell_type": "code",
   "execution_count": 3,
   "id": "f73916fc",
   "metadata": {},
   "outputs": [
    {
     "name": "stdout",
     "output_type": "stream",
     "text": [
      "Wygenerowano wykresy w: plots_step20\n"
     ]
    }
   ],
   "source": [
    "# -*- coding: utf-8 -*-\n",
    "import numpy as np\n",
    "import matplotlib.pyplot as plt\n",
    "from pathlib import Path\n",
    "\n",
    "def load_dict_npy_robust(path: str):\n",
    "    \"\"\"Wczytuje słownik z .npy zapisanym przez np.save(..., allow_pickle=True)\n",
    "    próbując różnych kodowań (latin1/bytes) typowych dla starych pickli.\"\"\"\n",
    "    for enc in (None, 'latin1', 'bytes'):\n",
    "        try:\n",
    "            if enc is None:\n",
    "                arr = np.load(path, allow_pickle=True)\n",
    "            else:\n",
    "                arr = np.load(path, allow_pickle=True, encoding=enc)\n",
    "            if isinstance(arr, dict):\n",
    "                return arr\n",
    "            # 0-wymiarowa tablica z obiektem (typowe)\n",
    "            return arr.item()\n",
    "        except Exception as e:\n",
    "            last_err = e\n",
    "    raise RuntimeError(f\"Nie udało się wczytać {path} żadnym kodowaniem. Ostatni błąd: {last_err}\")\n",
    "\n",
    "\n",
    "step = 20\n",
    "dic_node = load_dict_npy_robust(\"dic_node.npy\")\n",
    "dic_disp = load_dict_npy_robust(f\"{step}_dic_displacement.npy\")\n",
    "\n",
    "node_ids = sorted(dic_node.keys())\n",
    "coords = np.array([dic_node[i] for i in node_ids], dtype=float)   # (N,2)\n",
    "disp   = np.array([dic_disp[i] for i in node_ids], dtype=float)   # (N,2)\n",
    "\n",
    "deformed = coords + disp\n",
    "umag = np.linalg.norm(disp, axis=1)\n",
    "\n",
    "outdir = Path(\"plots_step20\"); outdir.mkdir(exist_ok=True)\n",
    "\n",
    "# quiver (rzadsze strzałki)\n",
    "N = len(coords)\n",
    "stride = max(1, N // 2000)\n",
    "sel = slice(0, None, stride)\n",
    "\n",
    "plt.figure(figsize=(7,5.5))\n",
    "plt.quiver(coords[sel,0], coords[sel,1], disp[sel,0], disp[sel,1], angles='xy', scale_units='xy', scale=1)\n",
    "plt.gca().set_aspect(\"equal\", adjustable=\"box\")\n",
    "plt.title(f\"Displacement vectors (step {step})  n={N}, stride={stride}\")\n",
    "plt.xlabel(\"x\"); plt.ylabel(\"y\")\n",
    "plt.tight_layout(); plt.savefig(outdir / f\"quiver_step{step}.png\", dpi=160); plt.close()\n",
    "\n",
    "# |u|\n",
    "plt.figure(figsize=(7,5.5))\n",
    "sc = plt.scatter(coords[:,0], coords[:,1], c=umag, s=8)\n",
    "plt.colorbar(sc, label=\"|u|\")\n",
    "plt.gca().set_aspect(\"equal\", adjustable=\"box\")\n",
    "plt.title(f\"Displacement magnitude |u| (step {step})\")\n",
    "plt.xlabel(\"x\"); plt.ylabel(\"y\")\n",
    "plt.tight_layout(); plt.savefig(outdir / f\"umag_step{step}.png\", dpi=160); plt.close()\n",
    "\n",
    "# undeformed vs deformed\n",
    "plt.figure(figsize=(7,5.5))\n",
    "plt.scatter(coords[:,0], coords[:,1], s=5, label=\"undeformed\", alpha=0.35)\n",
    "plt.scatter(deformed[:,0], deformed[:,1], s=5, label=\"deformed\", alpha=0.75)\n",
    "plt.legend(); plt.gca().set_aspect(\"equal\", adjustable=\"box\")\n",
    "plt.title(f\"Undeformed vs Deformed nodes (step {step})\")\n",
    "plt.xlabel(\"x\"); plt.ylabel(\"y\")\n",
    "plt.tight_layout(); plt.savefig(outdir / f\"overlay_step{step}.png\", dpi=160); plt.close()\n",
    "\n",
    "print(\"Wygenerowano wykresy w:\", outdir)\n"
   ]
  },
  {
   "cell_type": "code",
   "execution_count": null,
   "id": "a05411a8",
   "metadata": {},
   "outputs": [],
   "source": []
  }
 ],
 "metadata": {
  "kernelspec": {
   "display_name": ".venv",
   "language": "python",
   "name": "python3"
  },
  "language_info": {
   "codemirror_mode": {
    "name": "ipython",
    "version": 3
   },
   "file_extension": ".py",
   "mimetype": "text/x-python",
   "name": "python",
   "nbconvert_exporter": "python",
   "pygments_lexer": "ipython3",
   "version": "3.12.11"
  }
 },
 "nbformat": 4,
 "nbformat_minor": 5
}
